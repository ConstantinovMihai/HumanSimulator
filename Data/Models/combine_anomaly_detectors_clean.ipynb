{
 "cells": [
  {
   "cell_type": "code",
   "execution_count": 1,
   "metadata": {},
   "outputs": [],
   "source": [
    "import numpy as np\n",
    "from utils import *\n",
    "from classify_samples_MH import *\n",
    "import matplotlib.pyplot as plt\n",
    "from performance_utils import *"
   ]
  },
  {
   "cell_type": "code",
   "execution_count": 2,
   "metadata": {},
   "outputs": [],
   "source": [
    "md_distances = np.loadtxt('/home/mihai/Thesis/MD_distances_per_run.csv', delimiter=',')\n",
    "ocsvm_scores = np.loadtxt(r'/home/mihai/Thesis/Data/Models/distances_ocsvm.csv', delimiter=',')\n",
    "tc_test = np.loadtxt(r'/home/mihai/Thesis/Data/Clean_CSV_data/updated_data/PRDPE/mdist.csv', delimiter=',')\n",
    "\n",
    "# get rid of the 19th run\n",
    "md_distances_cl = np.delete(md_distances, 19, 0)\n",
    "ocsvm_scores_cl = np.delete(ocsvm_scores, 19, 0)\n",
    "tc_test_cl = np.delete(tc_test, 19, 0)"
   ]
  },
  {
   "cell_type": "code",
   "execution_count": 3,
   "metadata": {},
   "outputs": [],
   "source": [
    "real_changepoints = compute_changepoints(tc_test)\n"
   ]
  },
  {
   "cell_type": "markdown",
   "metadata": {},
   "source": [
    "## Vanilla OCSVM performance"
   ]
  },
  {
   "cell_type": "code",
   "execution_count": 4,
   "metadata": {},
   "outputs": [
    {
     "ename": "NameError",
     "evalue": "name 'trigger_ocsvm_alarms_dataset' is not defined",
     "output_type": "error",
     "traceback": [
      "\u001b[0;31m---------------------------------------------------------------------------\u001b[0m",
      "\u001b[0;31mNameError\u001b[0m                                 Traceback (most recent call last)",
      "Cell \u001b[0;32mIn[4], line 14\u001b[0m\n\u001b[1;32m     11\u001b[0m \u001b[38;5;28;01mfor\u001b[39;00m t_idx, tolerance \u001b[38;5;129;01min\u001b[39;00m \u001b[38;5;28menumerate\u001b[39m(tolerances):\n\u001b[1;32m     12\u001b[0m     \u001b[38;5;28;01mfor\u001b[39;00m th_idx, threshold \u001b[38;5;129;01min\u001b[39;00m \u001b[38;5;28menumerate\u001b[39m(thresholds): \n\u001b[1;32m     13\u001b[0m         \u001b[38;5;66;03m# Generate alarms for the current run, threshold, and tolerance\u001b[39;00m\n\u001b[0;32m---> 14\u001b[0m         ocsvm_alarms_run \u001b[38;5;241m=\u001b[39m \u001b[43mtrigger_ocsvm_alarms_dataset\u001b[49m(ocsvm_scores, threshold\u001b[38;5;241m=\u001b[39mthreshold)\n\u001b[1;32m     15\u001b[0m         \u001b[38;5;66;03m# Compute precision, recall, and F1-score for the current configuration\u001b[39;00m\n\u001b[1;32m     18\u001b[0m         real_changepoints_without_19th \u001b[38;5;241m=\u001b[39m real_changepoints[:\u001b[38;5;241m19\u001b[39m] \u001b[38;5;241m+\u001b[39m real_changepoints[\u001b[38;5;241m20\u001b[39m:]\n",
      "\u001b[0;31mNameError\u001b[0m: name 'trigger_ocsvm_alarms_dataset' is not defined"
     ]
    }
   ],
   "source": [
    "# Define tolerances and thresholds\n",
    "tolerances = np.arange(50, 301, 50)  # Tolerance values to test\n",
    "thresholds = np.arange(-600, -400, 25)  # Threshold values to test\n",
    "\n",
    "# Initialize result matrices\n",
    "precision_matrix = np.zeros((len(tolerances), len(thresholds)))\n",
    "recall_matrix = np.zeros((len(tolerances), len(thresholds)))\n",
    "f1_matrix = np.zeros((len(tolerances), len(thresholds)))\n",
    "\n",
    "\n",
    "for t_idx, tolerance in enumerate(tolerances):\n",
    "    for th_idx, threshold in enumerate(thresholds): \n",
    "        # Generate alarms for the current run, threshold, and tolerance\n",
    "        ocsvm_alarms_run = trigger_ocsvm_alarms_dataset(ocsvm_scores, threshold=threshold)\n",
    "        # Compute precision, recall, and F1-score for the current configuration\n",
    "\n",
    "        \n",
    "        real_changepoints_without_19th = real_changepoints[:19] + real_changepoints[20:]\n",
    "        ocsvm_alarms_run_without_19th = ocsvm_alarms_run[:19] + ocsvm_alarms_run[20:]\n",
    "\n",
    "        total_precision, total_recall, total_f1_score = compute_total_precision_recall_f1(\n",
    "            real_changepoints_without_19th, ocsvm_alarms_run_without_19th, tolerance=tolerance\n",
    "        )\n",
    "        \n",
    "        # Accumulate results across runs (mean metrics over runs)\n",
    "        precision_matrix[t_idx, th_idx] += total_precision\n",
    "        recall_matrix[t_idx, th_idx] += total_recall\n",
    "        f1_matrix[t_idx, th_idx] += total_f1_score\n"
   ]
  }
 ],
 "metadata": {
  "kernelspec": {
   "display_name": "thesis",
   "language": "python",
   "name": "python3"
  },
  "language_info": {
   "codemirror_mode": {
    "name": "ipython",
    "version": 3
   },
   "file_extension": ".py",
   "mimetype": "text/x-python",
   "name": "python",
   "nbconvert_exporter": "python",
   "pygments_lexer": "ipython3",
   "version": "3.9.13"
  }
 },
 "nbformat": 4,
 "nbformat_minor": 2
}
