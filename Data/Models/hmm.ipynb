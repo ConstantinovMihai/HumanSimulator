{
 "cells": [
  {
   "cell_type": "code",
   "execution_count": 1,
   "metadata": {},
   "outputs": [],
   "source": [
    "import numpy as np\n",
    "from hmmlearn import hmm\n",
    "import pandas as pd\n",
    "from torch.utils.data import Dataset\n",
    "import torch\n",
    "import seaborn as sns\n",
    "from pyts.classification import TimeSeriesForest\n",
    "import matplotlib.pyplot as plt\n",
    "from sklearn.ensemble import IsolationForest\n",
    "import numpy as np\n",
    "from tsai.all import *\n",
    "from sklearn.model_selection import train_test_split\n",
    "from sklearn.metrics import f1_score, roc_curve, auc, confusion_matrix, roc_auc_score, f1_score, accuracy_score, classification_report\n",
    "import sklearn.metrics as skm\n",
    "from sklearn.preprocessing import StandardScaler\n",
    "import ruptures as rpt\n",
    "from utils import *"
   ]
  },
  {
   "cell_type": "markdown",
   "metadata": {},
   "source": [
    "## Estimate priors"
   ]
  },
  {
   "cell_type": "code",
   "execution_count": 2,
   "metadata": {},
   "outputs": [],
   "source": [
    "# Load data\n",
    "tc = np.loadtxt(r'/home/mihai/Thesis/Data/Clean_CSV_data/updated_data/PRDCE/mdist.csv', delimiter=',')\n",
    "error_signal = np.loadtxt(r'/home/mihai/Thesis/Data/Clean_CSV_data/updated_data/PRN/e.csv',  delimiter=',')\n",
    "u_signal= np.loadtxt(r'/home/mihai/Thesis/Data/Clean_CSV_data/updated_data/PRN/u.csv',  delimiter=',')\n",
    "\n",
    "error_signal = error_signal[:,0]\n",
    "u_signal = u_signal[:,0]\n",
    "tc = tc[:,0]\n",
    "\n",
    "# Create feature matrix and labels\n",
    "scaler = StandardScaler()\n",
    "error_signal = scaler.fit_transform(error_signal.reshape(-1, 1)).flatten()\n",
    "u_signal = scaler.fit_transform(u_signal.reshape(-1, 1)).flatten()\n",
    "\n",
    "error_derivative = np.diff(error_signal)\n",
    "u_signal_derivative = np.diff(u_signal)\n",
    "\n",
    "error_derivative = scaler.fit_transform(error_derivative.reshape(-1, 1)).flatten()\n",
    "u_signal_derivative = scaler.fit_transform(u_signal_derivative.reshape(-1, 1)).flatten()\n",
    "\n",
    "# Feature matrix X and label vector y\n",
    "X = np.column_stack((error_signal[:-1], u_signal[:-1], error_derivative, u_signal_derivative))\n",
    "y = tc[:-1]\n",
    "\n",
    "mean_vector = np.mean(X, axis=0)\n",
    "\n",
    "# Compute the covariance matrix\n",
    "covariance_matrix = np.cov(X, rowvar=False)"
   ]
  },
  {
   "cell_type": "markdown",
   "metadata": {},
   "source": [
    "## Read data"
   ]
  },
  {
   "cell_type": "code",
   "execution_count": 3,
   "metadata": {},
   "outputs": [],
   "source": [
    "# Load data\n",
    "error_signal = np.loadtxt(r'/home/mihai/Thesis/Data/Clean_CSV_data/updated_data/PRDCE/e.csv',  delimiter=',')\n",
    "u_signal = np.loadtxt(r'/home/mihai/Thesis/Data/Clean_CSV_data/updated_data/PRDCE/u.csv',  delimiter=',')\n",
    "\n",
    "error_signal = error_signal[:,0]\n",
    "u_signal = u_signal[:,0]\n",
    "\n",
    "# Create feature matrix and labels\n",
    "scaler = StandardScaler()\n",
    "error_signal = scaler.fit_transform(error_signal.reshape(-1, 1)).flatten()\n",
    "u_signal = scaler.fit_transform(u_signal.reshape(-1, 1)).flatten()\n",
    "\n",
    "error_derivative = np.diff(error_signal)\n",
    "u_signal_derivative = np.diff(u_signal)\n",
    "\n",
    "error_derivative = scaler.fit_transform(error_derivative.reshape(-1, 1)).flatten()\n",
    "u_signal_derivative = scaler.fit_transform(u_signal_derivative.reshape(-1, 1)).flatten()\n",
    "\n",
    "# Feature matrix X and label vector y\n",
    "X = np.column_stack((error_signal[:-1], u_signal[:-1], error_derivative, u_signal_derivative))\n",
    "y = np.array(tc[:-1], dtype=int)\n"
   ]
  },
  {
   "cell_type": "markdown",
   "metadata": {},
   "source": [
    "## Initiate model"
   ]
  },
  {
   "cell_type": "code",
   "execution_count": 4,
   "metadata": {},
   "outputs": [],
   "source": [
    "# Initialize the HMM with 1 component (only non-distracted state)\n",
    "model = hmm.GaussianHMM(n_components=2, covariance_type='full', init_params=\"\")\n",
    "\n",
    "model.startprob_ = np.array([1, 0])\n",
    "model.transmat_ = np.array([\n",
    "    [0.99, 0.01],  # High probability of staying in \"not distracted\"\n",
    "    [0.2, 0.8]   # High probability of staying in \"distracted\"\n",
    "])\n",
    "\n",
    "\n",
    "# Set the initial mean vector and covariance matrix\n",
    "model.means_ = np.array([mean_vector, mean_vector])\n",
    "model.covars_ = np.array([covariance_matrix, covariance_matrix])\n",
    "\n",
    "# Fit the model on your data (assuming X only contains non-distracted samples)\n",
    "model.fit(X)\n",
    "\n",
    "hidden_states = model.predict(X)\n"
   ]
  },
  {
   "cell_type": "code",
   "execution_count": 5,
   "metadata": {},
   "outputs": [
    {
     "name": "stdout",
     "output_type": "stream",
     "text": [
      "Classification Report:\n",
      "              precision    recall  f1-score   support\n",
      "\n",
      "           0       0.89      0.66      0.76      8784\n",
      "           1       0.46      0.77      0.58      3215\n",
      "\n",
      "    accuracy                           0.69     11999\n",
      "   macro avg       0.67      0.72      0.67     11999\n",
      "weighted avg       0.77      0.69      0.71     11999\n",
      "\n",
      "Confusion Matrix:\n",
      "[[5840 2944]\n",
      " [ 727 2488]]\n",
      "f1 score: 0.5754596970047415\n"
     ]
    }
   ],
   "source": [
    "# Define the number of states\n",
    "n_states = 2\n",
    "\n",
    "# Initialize HMM\n",
    "model = hmm.GaussianHMM(n_components=n_states, covariance_type='full', init_params=\"\")\n",
    "\n",
    "# Compute initial probabilities\n",
    "startprob_init = np.array([np.mean(y == 0), np.mean(y == 1)])\n",
    "\n",
    "# Compute transition matrix\n",
    "transitions = np.zeros((n_states, n_states))\n",
    "for i in range(1, len(y)):\n",
    "    prev_state = y[i - 1]\n",
    "    curr_state = y[i]\n",
    "    transitions[prev_state, curr_state] += 1\n",
    "\n",
    "# Normalize transition matrix\n",
    "transmat_init = transitions / transitions.sum(axis=1, keepdims=True)\n",
    "\n",
    "# Set initial mean vectors and covariance matrices using the labeled data\n",
    "means_init = np.array([\n",
    "    X[y == 0].mean(axis=0),  # Mean for state 0\n",
    "    X[y == 1].mean(axis=0)   # Mean for state 1\n",
    "])\n",
    "\n",
    "# Regularization factor\n",
    "reg_factor = 1e-6\n",
    "\n",
    "# Covariance matrices for each state with regularization\n",
    "covars_init = np.array([\n",
    "    np.cov(X[y == 0], rowvar=False) + np.eye(X.shape[1]) * reg_factor,  # Covariance for state 0\n",
    "    np.cov(X[y == 1], rowvar=False) + np.eye(X.shape[1]) * reg_factor   # Covariance for state 1\n",
    "])\n",
    "\n",
    "# Ensure covariance matrices are symmetric and positive-definite\n",
    "for i in range(n_states):\n",
    "    covars_init[i] = (covars_init[i] + covars_init[i].T) / 2  # Make symmetric\n",
    "\n",
    "# Reshape covars_init to have the correct shape (n_components, n_dim, n_dim)\n",
    "covars_init = np.array([np.cov(X[y == i], rowvar=False) + np.eye(X.shape[1]) * reg_factor for i in range(n_states)])\n",
    "\n",
    "# Set the initial parameters\n",
    "model.startprob_ = startprob_init\n",
    "model.transmat_ = transmat_init\n",
    "model.means_ = means_init\n",
    "\n",
    "\n",
    "model.covars_ = covars_init\n",
    "\n",
    "# Fit the model on your data\n",
    "model.fit(X)\n",
    "\n",
    "# Predict hidden states\n",
    "hidden_states = model.predict(X)\n",
    "\n",
    "# Evaluate the model\n",
    "print(\"Classification Report:\")\n",
    "print(classification_report(y, hidden_states))\n",
    "\n",
    "print(\"Confusion Matrix:\")\n",
    "print(confusion_matrix(y, hidden_states))\n",
    "\n",
    "print(f\"f1 score: {f1_score(y, hidden_states)}\")\n"
   ]
  },
  {
   "cell_type": "markdown",
   "metadata": {},
   "source": [
    "## Last try"
   ]
  },
  {
   "cell_type": "code",
   "execution_count": 6,
   "metadata": {},
   "outputs": [
    {
     "name": "stdout",
     "output_type": "stream",
     "text": [
      "Classification Report:\n",
      "              precision    recall  f1-score   support\n",
      "\n",
      "           0       0.89      0.67      0.76      8784\n",
      "           1       0.46      0.77      0.58      3215\n",
      "\n",
      "    accuracy                           0.69     11999\n",
      "   macro avg       0.67      0.72      0.67     11999\n",
      "weighted avg       0.77      0.69      0.71     11999\n",
      "\n",
      "Confusion Matrix:\n",
      "[[5842 2942]\n",
      " [ 727 2488]]\n"
     ]
    }
   ],
   "source": [
    "startprob_init = np.array([1,0])\n",
    "\n",
    "transitions = np.zeros((n_states, n_states))\n",
    "for i in range(1, len(y)):\n",
    "    prev_state = y[i - 1]\n",
    "    curr_state = y[i]\n",
    "    transitions[prev_state, curr_state] += 1\n",
    "transmat_init = transitions / transitions.sum(axis=1, keepdims=True)\n",
    "\n",
    "means_init = np.array([\n",
    "    X[y == 0].mean(axis=0),  # Mean for state 0\n",
    "    X[y == 1].mean(axis=0)   # Mean for state 1\n",
    "])\n",
    "\n",
    "# Regularization factor\n",
    "reg_factor = 1e-6\n",
    "\n",
    "# Covariance matrices for each state with regularization\n",
    "covars_init = np.array([\n",
    "    np.cov(X[y == 0], rowvar=False) + np.eye(X.shape[1]) * reg_factor,  # Covariance for state 0\n",
    "    np.cov(X[y == 1], rowvar=False) + np.eye(X.shape[1]) * reg_factor   # Covariance for state 1\n",
    "])\n",
    "\n",
    "for i in range(n_states):\n",
    "    covars_init[i] = (covars_init[i] + covars_init[i].T) / 2\n",
    "\n",
    "\n",
    "model.startprob_ = startprob_init\n",
    "model.transmat_ = transmat_init\n",
    "model.means_ = means_init\n",
    "model.covars_ = covars_init\n",
    "\n",
    "# Fit the model on the data\n",
    "model.fit(X)\n",
    "hidden_states = model.predict(X)\n",
    "\n",
    "\n",
    "# Evaluate the model\n",
    "print(\"Classification Report:\")\n",
    "print(classification_report(y, hidden_states))\n",
    "\n",
    "print(\"Confusion Matrix:\")\n",
    "print(confusion_matrix(y, hidden_states))\n"
   ]
  },
  {
   "cell_type": "code",
   "execution_count": 7,
   "metadata": {},
   "outputs": [
    {
     "name": "stdout",
     "output_type": "stream",
     "text": [
      "Classification Report:\n",
      "              precision    recall  f1-score   support\n",
      "\n",
      "           0       0.89      0.67      0.76      8784\n",
      "           1       0.46      0.77      0.58      3215\n",
      "\n",
      "    accuracy                           0.69     11999\n",
      "   macro avg       0.67      0.72      0.67     11999\n",
      "weighted avg       0.77      0.69      0.71     11999\n",
      "\n",
      "Confusion Matrix:\n",
      "[[5842 2942]\n",
      " [ 727 2488]]\n"
     ]
    }
   ],
   "source": [
    "# Initialize and fit the HMM on non-distracted data\n",
    "model = hmm.GaussianHMM(n_components=2, covariance_type='full', init_params=\"\")\n",
    "\n",
    "model.startprob_ = startprob_init\n",
    "model.transmat_ = transmat_init\n",
    "model.means_ = means_init\n",
    "model.covars_ = covars_init\n",
    "\n",
    "X_non_distracted = X[y == 0]\n",
    "model.fit(X)\n",
    "\n",
    "# Predict hidden states on mixed data\n",
    "hidden_states_mixed = model.predict(X)\n",
    "\n",
    "# Evaluate the model\n",
    "print(\"Classification Report:\")\n",
    "print(classification_report(y, hidden_states_mixed))\n",
    "\n",
    "print(\"Confusion Matrix:\")\n",
    "print(confusion_matrix(y, hidden_states_mixed))"
   ]
  },
  {
   "cell_type": "markdown",
   "metadata": {},
   "source": [
    "## Test data"
   ]
  },
  {
   "cell_type": "code",
   "execution_count": 8,
   "metadata": {},
   "outputs": [
    {
     "name": "stdout",
     "output_type": "stream",
     "text": [
      "pred_labels.shape=(11999,); true_labels.shape=(11999,)\n",
      "FP.shape=(11999,); time_axis.shape=(11999,); true_labels.shape=(11999,)\n"
     ]
    },
    {
     "data": {
      "image/png": "[encoded data removed]",
      "text/plain": [
       "<Figure size 1500x500 with 1 Axes>"
      ]
     },
     "metadata": {},
     "output_type": "display_data"
    }
   ],
   "source": [
    "def plot_intermediary_results(pred_labels, true_labels):\n",
    "    \n",
    "    pred_labels = np.ravel(pred_labels)\n",
    "    true_labels = np.ravel(true_labels)\n",
    "   \n",
    "    TN = (pred_labels == 0) & (true_labels == 0)\n",
    "    FP = (pred_labels == 1) & (true_labels == 0)\n",
    "    FN = (pred_labels == 0) & (true_labels == 1)\n",
    "    TP = (pred_labels == 1) & (true_labels == 1)\n",
    "\n",
    "    time_axis = np.arange(len(true_labels))\n",
    "\n",
    "    plt.figure(figsize=(15, 5))\n",
    "    \n",
    "    print(f\"{pred_labels.shape=}; {true_labels.shape=}\")\n",
    "    print(f\"{FP.shape=}; {time_axis.shape=}; {true_labels.shape=}\")\n",
    "\n",
    "    # Plot False Positives (FP)\n",
    "    plt.plot(time_axis[FP], true_labels[FP], 'ro', label=\"False Positives (FP)\")\n",
    "\n",
    "    # Plot False Negatives (FN)\n",
    "    plt.plot(time_axis[FN], true_labels[FN], 'yo', label=\"False Negatives (FN)\")\n",
    "\n",
    "    # Plot True Positives (TP)\n",
    "    plt.plot(time_axis[TP], true_labels[TP], 'bo', label=\"True Positives (TP)\")\n",
    "\n",
    "    plt.xlabel(\"Time index\")\n",
    "    plt.ylabel(\"Labels\")\n",
    "    plt.grid()\n",
    "    plt.title(\"Time Series Classification Results\")\n",
    "    plt.legend()\n",
    "    plt.show()\n",
    "\n",
    "# Plot results\n",
    "plot_intermediary_results(hidden_states, y)"
   ]
  },
  {
   "cell_type": "code",
   "execution_count": 9,
   "metadata": {},
   "outputs": [
    {
     "name": "stdout",
     "output_type": "stream",
     "text": [
      "Accuracy: 0.6942\n",
      "F1 Score: 0.5756\n",
      "\n",
      "Classification Report:\n",
      "                precision    recall  f1-score   support\n",
      "\n",
      "Not Distracted       0.89      0.67      0.76      8784\n",
      "    Distracted       0.46      0.77      0.58      3215\n",
      "\n",
      "      accuracy                           0.69     11999\n",
      "     macro avg       0.67      0.72      0.67     11999\n",
      "  weighted avg       0.77      0.69      0.71     11999\n",
      "\n"
     ]
    }
   ],
   "source": [
    "# Compute accuracy\n",
    "accuracy = accuracy_score(y, hidden_states)\n",
    "print(f\"Accuracy: {accuracy:.4f}\")\n",
    "\n",
    "# Compute F1 Score (considering binary classification)\n",
    "f1 = f1_score(y, hidden_states, average='binary')\n",
    "print(f\"F1 Score: {f1:.4f}\")\n",
    "\n",
    "# Optionally, if you have more detailed classification metrics\n",
    "from sklearn.metrics import classification_report\n",
    "\n",
    "report = classification_report(y, hidden_states, target_names=['Not Distracted', 'Distracted'])\n",
    "print(\"\\nClassification Report:\")\n",
    "print(report)"
   ]
  }
 ],
 "metadata": {
  "kernelspec": {
   "display_name": "thesis",
   "language": "python",
   "name": "python3"
  },
  "language_info": {
   "codemirror_mode": {
    "name": "ipython",
    "version": 3
   },
   "file_extension": ".py",
   "mimetype": "text/x-python",
   "name": "python",
   "nbconvert_exporter": "python",
   "pygments_lexer": "ipython3",
   "version": "3.9.13"
  }
 },
 "nbformat": 4,
 "nbformat_minor": 2
}
